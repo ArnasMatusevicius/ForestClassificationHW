{
 "cells": [
  {
   "cell_type": "code",
   "execution_count": null,
   "id": "25a43d23",
   "metadata": {
    "vscode": {
     "languageId": "plaintext"
    }
   },
   "outputs": [],
   "source": [
    "import os\n",
    "import numpy as np\n",
    "import matplotlib.pyplot as plt\n",
    "\n",
    "data = []\n",
    "folder_path = \"data/\"  # Change this to your actual path if different\n",
    "\n",
    "for filename in sorted(os.listdir(folder_path)):\n",
    "    if filename.endswith('.npy'):\n",
    "        file_path = os.path.join(folder_path, filename)\n",
    "        arr = np.load(open(file_path, 'rb'), allow_pickle=True)\n",
    "        data.append(arr)\n",
    "\n",
    "# Convert to NumPy array\n",
    "data = np.array(data)\n",
    "print(\"Data shape:\", data.shape)\n",
    "\n",
    "for i in range(data.shape[0]):\n",
    "    tile = data[i]\n",
    "    red = tile[3].astype('float32')\n",
    "    nir = tile[7].astype('float32')\n",
    "    ndvi = (nir - red) / (nir + red + 1e-6)\n",
    "    ndvi_less_than = 0.4\n",
    "    forest_mask = ndvi > ndvi_less_than\n",
    "\n",
    "    plt.subplot(1, 2, 1)\n",
    "    plt.imshow(ndvi, cmap='YlGn')\n",
    "    plt.title(f\"NDVI - Tile {i+1}\")\n",
    "    plt.colorbar()\n",
    "\n",
    "    plt.subplot(1, 2, 2)\n",
    "    plt.imshow(forest_mask, cmap='Greens')\n",
    "    plt.title(f\"Forest Mask (NDVI > {ndvi_less_than})\")\n",
    "    plt.axis(\"off\")\n",
    "\n",
    "    plt.tight_layout()\n",
    "    plt.show()\n",
    "\n"
   ]
  }
 ],
 "metadata": {
  "language_info": {
   "name": "python"
  }
 },
 "nbformat": 4,
 "nbformat_minor": 5
}
