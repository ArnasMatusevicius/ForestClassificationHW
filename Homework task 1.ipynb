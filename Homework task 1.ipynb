{
 "cells": [
  {
   "cell_type": "code",
   "execution_count": null,
   "id": "bc4679dd",
   "metadata": {
    "vscode": {
     "languageId": "plaintext"
    }
   },
   "outputs": [],
   "source": [
    "from deepforest import main, get_data\n",
    "import matplotlib.pyplot as plt\n",
    "import cv2\n",
    "\n",
    "model = main.deepforest()\n",
    "model.use_release()\n",
    "\n",
    "sample_image_path = get_data(\"OSBS_029.png\")\n",
    "preds = model.predict_image(path=sample_image_path)\n",
    "\n",
    "# Draw boxes\n",
    "image = cv2.imread(sample_image_path)\n",
    "image_rgb = cv2.cvtColor(image, cv2.COLOR_BGR2RGB)\n",
    "\n",
    "for _, row in preds.iterrows():\n",
    "    x1, y1, x2, y2 = int(row[\"xmin\"]), int(row[\"ymin\"]), int(row[\"xmax\"]), int(row[\"ymax\"])\n",
    "    cv2.rectangle(image_rgb, (x1, y1), (x2, y2), (0, 255, 0), 2)\n",
    "\n",
    "plt.figure(figsize=(12, 12))\n",
    "plt.imshow(image_rgb)\n",
    "plt.title(\"Tree-Level Detection with DeepForest\")\n",
    "plt.axis(\"off\")\n",
    "plt.show()\n"
   ]
  }
 ],
 "metadata": {
  "language_info": {
   "name": "python"
  }
 },
 "nbformat": 4,
 "nbformat_minor": 5
}
